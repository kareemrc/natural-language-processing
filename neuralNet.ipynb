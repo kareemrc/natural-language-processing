{
 "metadata": {
  "language_info": {
   "codemirror_mode": {
    "name": "ipython",
    "version": 3
   },
   "file_extension": ".py",
   "mimetype": "text/x-python",
   "name": "python",
   "nbconvert_exporter": "python",
   "pygments_lexer": "ipython3",
   "version": "3.8.6-final"
  },
  "orig_nbformat": 2,
  "kernelspec": {
   "name": "python3",
   "display_name": "Python 3.8.6 64-bit",
   "metadata": {
    "interpreter": {
     "hash": "2db524e06e9f5f4ffedc911c917cb75e12dbc923643829bf417064a77eb14d37"
    }
   }
  }
 },
 "nbformat": 4,
 "nbformat_minor": 2,
 "cells": [
  {
   "cell_type": "code",
   "execution_count": 9,
   "metadata": {},
   "outputs": [],
   "source": [
    "import numpy as np\n",
    "\n",
    "#Effort Estimation\n",
    "X= np.array(([200,5,10],[150,6,15],[600,3,14]), dtype=float) #Line of code, Cyclomatic complexity and function calls\n",
    "Y=np.array(([10],[13],[12]), dtype=float) #Man hours\n",
    "\n",
    "X= X/np.amax(X, axis=0)\n",
    "Y= Y/100"
   ]
  },
  {
   "cell_type": "code",
   "execution_count": 12,
   "metadata": {
    "tags": []
   },
   "outputs": [
    {
     "output_type": "stream",
     "name": "stdout",
     "text": [
      "Loss at 0 iteration: \n[[-0.19302384]\n [-0.13983911]\n [-0.26147922]]\nLoss at 100 iteration: \n[[-0.01382027]\n [ 0.02732423]\n [-0.01891136]]\nLoss at 200 iteration: \n[[-0.01145079]\n [ 0.02893928]\n [-0.01260274]]\nLoss at 300 iteration: \n[[-0.01217544]\n [ 0.0277597 ]\n [-0.01074721]]\nLoss at 400 iteration: \n[[-0.01302888]\n [ 0.02650469]\n [-0.00935579]]\nLoss at 500 iteration: \n[[-0.01379015]\n [ 0.02537573]\n [-0.00811078]]\nLoss at 600 iteration: \n[[-0.01445482]\n [ 0.02437431]\n [-0.00697934]]\nLoss at 700 iteration: \n[[-0.01503487]\n [ 0.02348657]\n [-0.0059518 ]]\nLoss at 800 iteration: \n[[-0.01554189]\n [ 0.02269899]\n [-0.00502025]]\nLoss at 900 iteration: \n[[-0.01598587]\n [ 0.02199958]\n [-0.00417697]]\nInput values are: \n [[0.33333333 0.83333333 0.66666667]\n [0.25       1.         1.        ]\n [1.         0.5        0.93333333]]\nActual output: \n [[0.1 ]\n [0.13]\n [0.12]]\nOutput after prediction: \n [[0.11637536]\n [0.10862218]\n [0.12341447]]\n"
     ]
    }
   ],
   "source": [
    "class NeuralNetwork(object):\n",
    "    def __init__(self):\n",
    "        self.inputSize=3\n",
    "        self.hiddenSize=3\n",
    "        self.outputSize=1\n",
    "\n",
    "        self.a=0\n",
    "\n",
    "        self.W1= np.random.randn(self.inputSize, self.hiddenSize) \n",
    "        self.W2= np.random.randn(self.hiddenSize, self.outputSize) \n",
    "\n",
    "        self.B1= np.random.randn(1,self.hiddenSize) \n",
    "        self.B2= np.random.randn(1,self.outputSize) \n",
    "\n",
    "    def feedForward(self,X):\n",
    "        self.layer1= np.dot(X,self.W1)+ self.B1\n",
    "        self.layer1Act= self.sigmoid(self.layer1) \n",
    "        self.outputLayer= np.dot(self.layer1Act, self.W2)+ self.B2\n",
    "        output= self.sigmoid(self.outputLayer)\n",
    "        return output\n",
    "\n",
    "    def sigmoid(self, x, deriv=False):\n",
    "        if (deriv==True):\n",
    "            return x* (1-x)\n",
    "        return 1/(1+np.exp(-x))\n",
    "\n",
    "    def backPass(self, X, y, output,learningRate):\n",
    "        self.outputError= (y- output)/2\n",
    "        self.outputDelta= self.outputError* self.sigmoid(output, deriv=True)\n",
    "\n",
    "        self.layer1ActError= self.outputDelta.dot(self.W2.T) \n",
    "        self.layer1ActDelta= learningRate*self.layer1ActError* self.sigmoid(self.layer1Act, deriv=True)\n",
    "\n",
    "        self.W1+= X.T.dot(self.layer1ActDelta)\n",
    "        self.W2+= self.layer1Act.T.dot(self.outputDelta)\n",
    "\n",
    "    def training(self,X,Y,learningRate):\n",
    "        output=self.feedForward(X)\n",
    "        self.loss=Y-output\n",
    "\n",
    "        if (self.a %100==0): \n",
    "            print(\"Loss at \"+str(self.a)+\" iteration: \\n\"+str(self.loss))\n",
    "\n",
    "        self.backPass(X,Y, output,learningRate)\n",
    "        self.a+=1\n",
    "\n",
    "    def start(self,n,learningRate):\n",
    "        for i in range(n):\n",
    "        \tself.training(X,Y,learningRate)\n",
    "\n",
    "\n",
    "\n",
    "if __name__ == \"__main__\":\n",
    "    neuralNetwork=NeuralNetwork()\n",
    "    neuralNetwork.start(1000,0.05) \n",
    "    print(\"Input values are: \\n\",X )\n",
    "    print(\"Actual output: \\n\",Y)\n",
    "    print(\"Output after prediction: \\n\",neuralNetwork.feedForward(X))"
   ]
  },
  {
   "cell_type": "code",
   "execution_count": null,
   "metadata": {},
   "outputs": [],
   "source": []
  }
 ]
}